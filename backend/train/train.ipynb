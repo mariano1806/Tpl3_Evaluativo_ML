{
 "cells": [
  {
   "cell_type": "markdown",
   "id": "90c535f8",
   "metadata": {},
   "source": [
    "<center><h2>Creacion y Entrenamiento del Modelo</h2></center>\n",
    "En este proyecto se utiliza un modelo de regresión logística para predecir el riesgo de burnout en personas a partir de hábitos digitales y de salud como el sueño, uso de pantallas, nivel de estrés, entre otros."
   ]
  },
  {
   "cell_type": "markdown",
   "id": "dde009e7",
   "metadata": {},
   "source": [
    "### Importacion de librerias"
   ]
  },
  {
   "cell_type": "code",
   "execution_count": null,
   "id": "99939e1d",
   "metadata": {},
   "outputs": [],
   "source": [
    "import pandas as pd\n",
    "import matplotlib.pyplot as plt\n"
   ]
  },
  {
   "cell_type": "markdown",
   "id": "f0816301",
   "metadata": {},
   "source": [
    "### Creacion de DataFrame a usar\n",
    " - Se carga el archivo CSV limpio que contiene los datos de 500 personas con variables relevantes para el análisis."
   ]
  },
  {
   "cell_type": "code",
   "execution_count": null,
   "id": "70d03bb7",
   "metadata": {},
   "outputs": [],
   "source": [
    "df = pd.read_csv('../../habitos_salud_mental_limpio.csv')\n",
    "df.head()"
   ]
  },
  {
   "cell_type": "markdown",
   "id": "c8c8694c",
   "metadata": {},
   "source": [
    "### Codificación de variables categóricas\n",
    "\n",
    "Algunas columnas del dataset contienen valores categóricos (texto), por ejemplo: \"Masculino\", \"Femenino\", \"Alta\", \"Baja\", etc.  \n",
    "Como los modelos de Machine Learning trabajan con valores numéricos, es necesario transformar estas categorías en números.\n",
    "\n",
    "- `sexo`: se codifica como 0 = Masculino, 1 = Femenino, 2 = Otro  \n",
    "- `actividad_fisica`: se codifica como 0 = Baja, 1 = Media, 2 = Alta  \n",
    "- `usa_redes_sociales` y `medita`: son booleanos (`True`/`False`) y se transforman en 1 y 0 respectivamente\n"
   ]
  },
  {
   "cell_type": "code",
   "execution_count": null,
   "id": "22a623bb",
   "metadata": {},
   "outputs": [],
   "source": [
    "df[\"sexo\"] = df[\"sexo\"].map({\"Masculino\": 0, \"Femenino\": 1, \"Otro\": 2})\n",
    "df[\"actividad_fisica\"] = df[\"actividad_fisica\"].map({\"Baja\": 0, \"Media\": 1, \"Alta\": 2})\n",
    "df[\"usa_redes_sociales\"] = df[\"usa_redes_sociales\"].astype(int)\n",
    "df[\"medita\"] = df[\"medita\"].astype(int)\n"
   ]
  },
  {
   "cell_type": "markdown",
   "id": "311e090d",
   "metadata": {},
   "source": [
    "### Selección de variables \n",
    "\n",
    "Seleccionamos las variables que usaremos para entrenar el modelo:\n",
    "\n",
    "- **Variables predictoras (`x`)**: características como edad, sexo, horas de pantalla, nivel de estrés, entre otras.\n",
    "- **Variable objetivo (`y`)**: la etiqueta que queremos predecir, que es el riesgo de burnout (0 = no, 1 = sí).\n"
   ]
  },
  {
   "cell_type": "code",
   "execution_count": null,
   "id": "737e5325",
   "metadata": {},
   "outputs": [],
   "source": [
    "\n",
    "x = df[[\"edad\", \"sexo\", \"horas_pantalla\", \"usa_redes_sociales\", \"horas_redes\",\"duerme_horas\", \"actividad_fisica\", \"nivel_estres\", \"nivel_ansiedad\", \"medita\"]]\n",
    "y = df[\"riesgo_burnout\"]\n"
   ]
  },
  {
   "cell_type": "code",
   "execution_count": null,
   "id": "70c147d8",
   "metadata": {},
   "outputs": [],
   "source": [
    "print(\"Distribución de clases:\")\n",
    "print(y.value_counts(normalize=True))"
   ]
  },
  {
   "cell_type": "markdown",
   "id": "1cc473b9",
   "metadata": {},
   "source": [
    "### División en entrenamiento y prueba\n",
    "\n",
    "- **80% para entrenamiento** (`x_train`, `y_train`): se usa para entrenar el modelo.\n",
    "- **20% para prueba** (`x_test`, `y_test`): se usa para evaluar el rendimiento del modelo con datos que no ha visto.\n",
    "\n",
    "Se utiliza `stratify= y ` para mantener la misma proporción de clases (0 y 1) en ambos conjuntos.  \n",
    "\n"
   ]
  },
  {
   "cell_type": "code",
   "execution_count": null,
   "id": "ea51eded",
   "metadata": {},
   "outputs": [],
   "source": [
    "from sklearn.model_selection import train_test_split\n",
    "from sklearn.linear_model import LogisticRegression\n",
    "x_train, x_test, y_train, y_test = train_test_split(x, y, test_size=0.2, random_state=42, stratify=y)"
   ]
  },
  {
   "cell_type": "markdown",
   "id": "e80c0450",
   "metadata": {},
   "source": [
    "## Creación del Modelo\n",
    "\n"
   ]
  },
  {
   "cell_type": "code",
   "execution_count": null,
   "id": "c894032d",
   "metadata": {},
   "outputs": [],
   "source": [
    "from sklearn.linear_model import LogisticRegression\n",
    "model = LogisticRegression(max_iter=5000, class_weight=\"balanced\")"
   ]
  },
  {
   "cell_type": "markdown",
   "id": "6ff89dc0",
   "metadata": {},
   "source": [
    "#### Entrenamiento del modelo\n",
    "- Se entrena el modelo de regresión logística con todos los datos (`X` e `y`)."
   ]
  },
  {
   "cell_type": "code",
   "execution_count": null,
   "id": "bf7acd2f",
   "metadata": {},
   "outputs": [],
   "source": [
    "model.fit(x_train,y_train)"
   ]
  },
  {
   "cell_type": "markdown",
   "id": "b867d95f",
   "metadata": {},
   "source": [
    "### Predicción sobre el conjunto de prueba\n",
    "Se realizan predicciones sobre los datos de prueba (`x_test`).\n",
    "- `y_predict` contiene las predicciones: 0 (sin riesgo de burnout) o 1 (con riesgo de burnout)."
   ]
  },
  {
   "cell_type": "code",
   "execution_count": null,
   "id": "a32ff6e1",
   "metadata": {},
   "outputs": [],
   "source": [
    "y_predict = model.predict(x_test)\n",
    "y_predict"
   ]
  },
  {
   "cell_type": "markdown",
   "id": "6bcbc0c2",
   "metadata": {},
   "source": [
    "### Imprimir metricas\n",
    "Se evalúa el rendimiento del modelo utilizando las siguientes métricas:\n",
    "\n",
    "- **Precisión (`accuracy`)**: muestra el porcentaje de predicciones correctas sobre el total.\n",
    "- **Reporte de clasificación (`classification_report`)**: incluye métricas más detalladas como:\n",
    "  - **Precisión (precision)**: qué porcentaje de las predicciones positivas fueron correctas.\n",
    "  - **Exhaustividad (recall)**: qué porcentaje de los casos reales positivos fueron detectados.\n",
    "  - **F1-score**: combinación entre precisión y recall.\n",
    "  - **Support**: cantidad real de muestras que pertenecen a cada clase (0 y 1) en el conjunto de prueba."
   ]
  },
  {
   "cell_type": "code",
   "execution_count": null,
   "id": "ab85f1c4",
   "metadata": {},
   "outputs": [],
   "source": [
    "from sklearn.metrics import accuracy_score, classification_report\n",
    "\n",
    "print(f\"Precisión: {accuracy_score(y_test, y_predict) * 100:.2f}%\")\n",
    "print(classification_report(y_test, y_predict))"
   ]
  },
  {
   "cell_type": "markdown",
   "id": "1fd32c38",
   "metadata": {},
   "source": [
    "#### Interpretación de los coeficientes del modelo\n",
    "\n",
    "El modelo de regresión logística asigna un coeficiente a cada variable predictora. Estos coeficientes indican cómo influye cada variable en la probabilidad de que una persona tenga riesgo de burnout:\n",
    "\n",
    "- **Coeficiente positivo**: la variable aumenta la probabilidad de burnout.\n",
    "- **Coeficiente negativo**: la variable reduce la probabilidad de burnout.\n",
    "- **Valor absoluto mayor**: más influencia tiene esa variable.\n"
   ]
  },
  {
   "cell_type": "code",
   "execution_count": null,
   "id": "237078ee",
   "metadata": {},
   "outputs": [],
   "source": [
    "coef = pd.Series(model.coef_[0], index=x.columns)\n",
    "print(coef.sort_values(ascending=False))\n"
   ]
  },
  {
   "cell_type": "markdown",
   "id": "c6795196",
   "metadata": {},
   "source": [
    "# Predicción de Riesgo de Burnout\n",
    "### Vamos a usar un modelo de  entrenado para predecir si una persona tiene riesgo de burnout, según sus hábitos (pantalla, sueño, estrés, redes sociales, etc.)\n",
    "\n"
   ]
  },
  {
   "cell_type": "markdown",
   "id": "dde2cd0e",
   "metadata": {},
   "source": [
    "## Ejemplo de Prediccion:\n",
    "### Probamos el modelo con dos personas diferentes y vemos el resultado.\n",
    "#### Persona 1\n",
    "- Usa muchas pantallas \n",
    "- Duerme poco \n",
    "- Tiene estrés y ansiedad altos\n",
    "- No hace ejercicio ni medita\n",
    "\n",
    "#### Persona 2\n",
    "- Tiene hábitos más sanos\n",
    "- Duerme bien, hace ejercicio, medita\n",
    "- Estrés y ansiedad bajos"
   ]
  },
  {
   "cell_type": "code",
   "execution_count": null,
   "id": "08e6866e",
   "metadata": {},
   "outputs": [],
   "source": [
    "Personas = pd.DataFrame([\n",
    "    {\n",
    "        \"edad\": 23,\n",
    "        \"sexo\": 1, \n",
    "        \"horas_pantalla\": 9.5,\n",
    "        \"usa_redes_sociales\": 1,\n",
    "        \"horas_redes\": 3.0,\n",
    "        \"duerme_horas\": 5.0,\n",
    "        \"actividad_fisica\": 0, \n",
    "        \"nivel_estres\": 8,\n",
    "        \"nivel_ansiedad\": 9,\n",
    "        \"medita\": 0\n",
    "    },\n",
    "    {\n",
    "        \"edad\": 30,\n",
    "        \"sexo\": 0,\n",
    "        \"horas_pantalla\": 5.0,\n",
    "        \"usa_redes_sociales\": 1,\n",
    "        \"horas_redes\": 1.0,\n",
    "        \"duerme_horas\": 7.5,\n",
    "        \"actividad_fisica\": 2, \n",
    "        \"nivel_estres\": 3,\n",
    "        \"nivel_ansiedad\": 4,\n",
    "        \"medita\": 1\n",
    "    }\n",
    "])\n"
   ]
  },
  {
   "cell_type": "markdown",
   "id": "254edbe8",
   "metadata": {},
   "source": [
    "#### Resultados\n",
    "- `predicciones`: Predecimos si tienen burnout (0 = No, 1 = Sí).\n",
    "- `probabilidades`: Probabilidad que el modelo les asigna.\n"
   ]
  },
  {
   "cell_type": "code",
   "execution_count": null,
   "id": "a7c6e81c",
   "metadata": {},
   "outputs": [],
   "source": [
    "predicciones = model.predict(Personas)\n",
    "probabilidades = model.predict_proba(Personas)\n",
    "\n",
    "for i in range(len(Personas)):\n",
    "    print(f\"Persona {i+1}\")\n",
    "    print(f\"Riesgo de burnout: {'Sí' if predicciones[i]==1 else 'No'}\")\n",
    "    print(f\"Probabilidad: {round(probabilidades[i][1]*100, 1)}%\")\n",
    "    print(\"--\")\n"
   ]
  },
  {
   "cell_type": "markdown",
   "id": "3898cfd9",
   "metadata": {},
   "source": [
    "### Gráfico de los datos de entrenamiento y las predicciones realizadas por el modelo."
   ]
  },
  {
   "cell_type": "code",
   "execution_count": null,
   "id": "639341c1",
   "metadata": {},
   "outputs": [],
   "source": [
    "from sklearn.decomposition import PCA\n",
    "X_test = x_test.values if hasattr(x_test, 'values') else x_test\n",
    "Y_test = y_test.values if hasattr(y_test, 'values') else y_test\n"
   ]
  },
  {
   "cell_type": "code",
   "execution_count": null,
   "id": "14b956ff",
   "metadata": {},
   "outputs": [],
   "source": [
    "\n",
    "pca = PCA(n_components=2)\n",
    "x_test_2d = pca.fit_transform(X_test)\n"
   ]
  },
  {
   "cell_type": "code",
   "execution_count": null,
   "id": "8f28c131",
   "metadata": {},
   "outputs": [],
   "source": [
    "plt.figure(figsize=(6,6))\n",
    "plt.scatter(x_test_2d[y_predict == 0][:, 0], x_test_2d[y_predict == 0][:, 1], color='green', label=\"Sin riesgo (predicción)\", marker='o', alpha=0.6)\n",
    "plt.scatter(x_test_2d[y_predict == 1][:, 0], x_test_2d[y_predict == 1][:, 1], color='red', label=\"Con riesgo (predicción)\", marker='o', alpha=0.6)\n",
    "plt.title(\"Predicciones del modelo\")\n",
    "plt.xlabel(\"PCA 1\")\n",
    "plt.ylabel(\"PCA 2\")\n",
    "plt.legend()\n",
    "plt.grid(True)\n",
    "plt.show()\n"
   ]
  },
  {
   "cell_type": "code",
   "execution_count": null,
   "id": "6e95d36c",
   "metadata": {},
   "outputs": [],
   "source": [
    "plt.figure(figsize=(6,6))\n",
    "plt.scatter(x_test_2d[Y_test == 0][:, 0], x_test_2d[Y_test == 0][:, 1], color='green', label=\"Sin riesgo (real)\", alpha=0.6)\n",
    "plt.scatter(x_test_2d[Y_test == 1][:, 0], x_test_2d[Y_test == 1][:, 1], color='red', label=\"Con riesgo (real)\", alpha=0.6)\n",
    "plt.title(\"Datos reales\")\n",
    "plt.xlabel(\"PCA 1\")\n",
    "plt.ylabel(\"PCA 2\")\n",
    "plt.legend()\n",
    "plt.grid(True)\n",
    "plt.show()\n"
   ]
  },
  {
   "cell_type": "markdown",
   "id": "d75f70a8",
   "metadata": {},
   "source": [
    "### Guardar el modelo entrenado en un archivo `.pkl`"
   ]
  },
  {
   "cell_type": "code",
   "execution_count": null,
   "id": "34232c8a",
   "metadata": {},
   "outputs": [],
   "source": [
    "import joblib\n",
    "joblib.dump(model, \"analisis_burnout.pkl\")"
   ]
  },
  {
   "cell_type": "code",
   "execution_count": null,
   "id": "74d21dd8",
   "metadata": {},
   "outputs": [],
   "source": [
    "burnout_analisis = joblib.load(\"analisis_burnout.pkl\")\n",
    "burnout_analisis.predict(Personas)"
   ]
  }
 ],
 "metadata": {
  "kernelspec": {
   "display_name": "env",
   "language": "python",
   "name": "python3"
  },
  "language_info": {
   "codemirror_mode": {
    "name": "ipython",
    "version": 3
   },
   "file_extension": ".py",
   "mimetype": "text/x-python",
   "name": "python",
   "nbconvert_exporter": "python",
   "pygments_lexer": "ipython3",
   "version": "3.11.9"
  }
 },
 "nbformat": 4,
 "nbformat_minor": 5
}
